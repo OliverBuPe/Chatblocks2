{
 "cells": [
  {
   "cell_type": "code",
   "execution_count": 1,
   "metadata": {},
   "outputs": [
    {
     "data": {
      "text/html": [
       "<style>.container { width:100% !important; }</style>"
      ],
      "text/plain": [
       "<IPython.core.display.HTML object>"
      ]
     },
     "metadata": {},
     "output_type": "display_data"
    }
   ],
   "source": [
    "import os\n",
    "import sys \n",
    "from flask import Flask\n",
    "from flask import request\n",
    "from flask_api import status\n",
    "import psycopg2\n",
    "import json\n",
    "import copy\n",
    "from IPython.core.display import display, HTML\n",
    "\n",
    "display(HTML(\"<style>.container { width:100% !important; }</style>\"))\n",
    "datosBaseDeDatos = {\"usuario\":\"postgres\",\"password\":\"123456789\",\"Host\":\"127.0.0.1\",\"puerto\":\"5432\",\"DB\":\"chatblocks\"}"
   ]
  },
  {
   "cell_type": "code",
   "execution_count": 2,
   "metadata": {},
   "outputs": [],
   "source": [
    "def abrirJson(name,path=os.getcwd()+\"/\" ):\n",
    "    with open(path+name,encoding='utf-8') as data_file:  \n",
    "        diccionario = json.load(data_file)\n",
    "    return diccionario"
   ]
  },
  {
   "cell_type": "code",
   "execution_count": 3,
   "metadata": {},
   "outputs": [],
   "source": [
    "def conexionBaseDeDatos(datosConexion):\n",
    "    try:\n",
    "        connection = psycopg2.connect(user = datosConexion[\"usuario\"],\n",
    "                              password = datosConexion[\"password\"],\n",
    "                              host = datosConexion[\"Host\"],\n",
    "                              port = datosConexion[\"puerto\"],\n",
    "                              database = datosConexion[\"DB\"])    \n",
    "        return connection\n",
    "    except(Exception, psycopg2.Error) as error:\n",
    "        print(\"Error al conectar con base de datos\", error)"
   ]
  },
  {
   "cell_type": "code",
   "execution_count": 4,
   "metadata": {},
   "outputs": [],
   "source": [
    "def consultar(connection,datos=False,consulta=False,tabla=False):\n",
    "    #print(\"datos\",datos)\n",
    "    consultaBots = list()\n",
    "    column_names = []\n",
    "    data_rows = []\n",
    "    diccionarioDatos = dict()\n",
    "    consultas = list()\n",
    "    cursor = connection.cursor()  \n",
    "    cosulta =\"\"    \n",
    "    if datos:\n",
    "        #print(\"intenatando consulta...\")\n",
    "        consulta = \"select * from \"+tabla+\" where \"        \n",
    "        i=0\n",
    "        for dato, valorDato in datos.items():\n",
    "            if i==0:\n",
    "                consulta = consulta+dato+\"= '\"+str(valorDato)+\"'\"                \n",
    "            else:             \n",
    "                consulta = consulta+\" and \"+dato+\"= '\"+str(valorDato)+\"'\" \n",
    "            i=i+1\n",
    "        #print(dato,\":\",valorDato)\n",
    "        consulta= consulta + \" ;\" \n",
    "        #print(consulta)        \n",
    "        #consulta = \"select * from robots where name_robot = '\"+datosBot[\"name_robot\"]+\"' and id_face = '\"+ datosBot[\"id_face\"]+\"' and  type_blocki = '\"+datosBot[\"type_blocki\"]+\"' and access_token= '\"+datosBot[\"access_token\"]+\"' and id_user = '\"+datosBot[\"id_user\"]+\"';\"\n",
    "    print(\"consulta:\",consulta)\n",
    "    cursor.execute(consulta)    \n",
    "    column_names = [desc[0] for desc in cursor.description]  \n",
    "    rows = cursor.fetchall()\n",
    "    for row in rows:\n",
    "        diccionarioDatos = dict()\n",
    "        for i in range(len(column_names)):\n",
    "            diccionarioDatos.update({column_names[i]:row[i]})\n",
    "        consultaBots.append(diccionarioDatos)\n",
    "    cursor.close()\n",
    "    connection.close()  \n",
    "    \n",
    "    if len(consultaBots)==1:\n",
    "        return consultaBots[0]\n",
    "    else:\n",
    "        return consultaBots"
   ]
  },
  {
   "cell_type": "code",
   "execution_count": 5,
   "metadata": {},
   "outputs": [],
   "source": [
    "def insert(datos,tabla,connection):\n",
    "    cursor = connection.cursor()\n",
    "    values = \"\"\n",
    "    datosInsert = \"\"\n",
    "    i = 0;\n",
    "    for dato, valorDato in datos.items():\n",
    "        if i==0:\n",
    "            values = values+dato \n",
    "            datosInsert = datosInsert+\"'\"+str(valorDato)+\"' \"                \n",
    "        else:\n",
    "            values = values+\",\"+dato\n",
    "            datosInsert =datosInsert+\",'\"+str(valorDato)+\"' \"\n",
    "        i=i+1\n",
    "    insersion  = \"insert into \"+tabla+\" ( \"+values+\" ) values (\"+datosInsert+\" );\" \n",
    "    cursor.execute(insersion)\n",
    "    connection.commit()\n",
    "    cursor.close()\n",
    "    connection.close()\n",
    "    return datos"
   ]
  },
  {
   "cell_type": "code",
   "execution_count": 6,
   "metadata": {},
   "outputs": [],
   "source": [
    "def update(datosActualizar,datos,tabla,connection):\n",
    "    actualizar =\" \"\n",
    "    actualizar = \"update \"+tabla+\" set\"\n",
    "    j = 0\n",
    "    for dato,informacionDato in datosActualizar.items():\n",
    "        print(dato)\n",
    "        if j==0:\n",
    "            actualizar=actualizar+\" \"+dato+\"=\"+str(informacionDato)\n",
    "            j=j+1\n",
    "        else:\n",
    "             actualizar=actualizar+\", \"+dato+\"=\"+str(informacionDato)\n",
    "    \n",
    "    i=0\n",
    "    actualizar=actualizar+\" where \"\n",
    "    for dato, valorDato in datos.items():\n",
    "        if i==0:\n",
    "            actualizar = actualizar+dato+\"= '\"+str(valorDato)+\"'\"                \n",
    "        else:             \n",
    "            actualizar = actualizar+\" and \"+dato+\"= '\"+str(valorDato)+\"'\" \n",
    "        i=i+1\n",
    "    actualizar= actualizar + \" ;\"  "
   ]
  },
  {
   "cell_type": "code",
   "execution_count": 7,
   "metadata": {},
   "outputs": [],
   "source": [
    "app = Flask(__name__)\n",
    "@app.route('/access_token', methods = ['POST'])\n",
    "def postAccessToken():\n",
    "    try:         \n",
    "        connection = conexionBaseDeDatos(datosBaseDeDatos)        \n",
    "        datosVariable = request.get_json()   \n",
    "        tabla = \"robots\"\n",
    "        con = consultaBots(connection,datos=datosVariable,tabla=tabla)        \n",
    "        listaAcessToken=list()\n",
    "        if type(con)==list:\n",
    "            for i in range(len(con)):\n",
    "                print(con[i])\n",
    "                listaAcessToken.append(con[i][\"access_token\"])\n",
    "        else:\n",
    "            listaAcessToken.append(con[\"access_token\"])         \n",
    "        print(listaAcessToken)\n",
    "        return {\"access_token\":listaAcessToken}\n",
    "    except:\n",
    "        return datosVariable,status.HTTP_404_NOT_FOUND\n"
   ]
  },
  {
   "cell_type": "code",
   "execution_count": 8,
   "metadata": {},
   "outputs": [],
   "source": [
    "@app.route('/insert/<tabla>',methods=['POST'])\n",
    "def funcionalidad(tabla):\n",
    "    try:\n",
    "        connection = conexionBaseDeDatos(datosBaseDeDatos)\n",
    "        datos = request.get_json()\n",
    "        print(datos)\n",
    "        insert(datos,str(tabla),connection)\n",
    "        connection = conexionBaseDeDatos(datosBaseDeDatos)\n",
    "        consulta = consultar(connection,datos=datos,tabla=str(tabla))\n",
    "        return consulta\n",
    "    except (Exception, psycopg2.Error) as error :\n",
    "        print(\"error\",error)\n",
    "        return tabla,status.HTTP_404_NOT_FOUND"
   ]
  },
  {
   "cell_type": "code",
   "execution_count": 9,
   "metadata": {},
   "outputs": [],
   "source": [
    "@app.route('/select/<tabla>',methods=['GET'])\n",
    "def select(tabla):\n",
    "    try:\n",
    "        connection = conexionBaseDeDatos(datosBaseDeDatos)\n",
    "        datos = request.get_json()\n",
    "        print(datos)\n",
    "        \n",
    "        consulta = consultar(connection,datos=datos,tabla=str(tabla))\n",
    "        return consulta\n",
    "    except (Exception, psycopg2.Error) as error :\n",
    "        print(\"error\",error)\n",
    "        return tabla,status.HTTP_404_NOT_FOUND"
   ]
  },
  {
   "cell_type": "code",
   "execution_count": null,
   "metadata": {},
   "outputs": [
    {
     "name": "stdout",
     "output_type": "stream",
     "text": [
      " * Serving Flask app \"__main__\" (lazy loading)\n",
      " * Environment: production\n",
      "   WARNING: This is a development server. Do not use it in a production deployment.\n",
      "   Use a production WSGI server instead.\n",
      " * Debug mode: off\n"
     ]
    },
    {
     "name": "stderr",
     "output_type": "stream",
     "text": [
      " * Running on http://localhost:8181/ (Press CTRL+C to quit)\n"
     ]
    },
    {
     "name": "stdout",
     "output_type": "stream",
     "text": [
      "{'name_robot': 'oliverBot', 'id_face': '2153123008120093', 'block_ini': 'pruebaCorreo_01inicial_inicial', 'type_blocki': 'quickreply', 'access_token': 'EAAHNkscg2TcBAMvebksfOxuFBpMeR5sUhzHTKtqdi6NkqQKZAdkeaGVJ9Yc5bNbvL3JLzCgB7EEqsVUTZADhidVcC3zJV1UZB4Uz0Hm3fZB9IETnWb4I8MoK8nxpenC1lYwnjwnRwMHVZA1FKw8d3A45t9xCxmPKnm6kIr5ZCA8wZDZD', 'id_user': 'oliverbp88@gmail.com', 'api_nlp': 'http://localhost:8282/'}\n"
     ]
    },
    {
     "name": "stderr",
     "output_type": "stream",
     "text": [
      "127.0.0.1 - - [15/Mar/2021 11:43:52] \"POST /insert/robots HTTP/1.1\" 200 -\n"
     ]
    },
    {
     "name": "stdout",
     "output_type": "stream",
     "text": [
      "consulta: select * from robots where name_robot= 'oliverBot' and id_face= '2153123008120093' and block_ini= 'pruebaCorreo_01inicial_inicial' and type_blocki= 'quickreply' and access_token= 'EAAHNkscg2TcBAMvebksfOxuFBpMeR5sUhzHTKtqdi6NkqQKZAdkeaGVJ9Yc5bNbvL3JLzCgB7EEqsVUTZADhidVcC3zJV1UZB4Uz0Hm3fZB9IETnWb4I8MoK8nxpenC1lYwnjwnRwMHVZA1FKw8d3A45t9xCxmPKnm6kIr5ZCA8wZDZD' and id_user= 'oliverbp88@gmail.com' and api_nlp= 'http://localhost:8282/' ;\n"
     ]
    },
    {
     "name": "stderr",
     "output_type": "stream",
     "text": [
      "127.0.0.1 - - [15/Mar/2021 11:44:24] \"POST /insert/robots HTTP/1.1\" 200 -\n"
     ]
    },
    {
     "name": "stdout",
     "output_type": "stream",
     "text": [
      "{'name_robot': 'oliverBot', 'id_face': '2153123008120093', 'block_ini': 'pruebaCorreo_01inicial_inicial', 'type_blocki': 'quickreply', 'access_token': 'EAAHNkscg2TcBAMvebksfOxuFBpMeR5sUhzHTKtqdi6NkqQKZAdkeaGVJ9Yc5bNbvL3JLzCgB7EEqsVUTZADhidVcC3zJV1UZB4Uz0Hm3fZB9IETnWb4I8MoK8nxpenC1lYwnjwnRwMHVZA1FKw8d3A45t9xCxmPKnm6kIr5ZCA8wZDZD', 'id_user': 'oliverbp88@gmail.com', 'api_nlp': 'http://localhost:8282/'}\n",
      "consulta: select * from robots where name_robot= 'oliverBot' and id_face= '2153123008120093' and block_ini= 'pruebaCorreo_01inicial_inicial' and type_blocki= 'quickreply' and access_token= 'EAAHNkscg2TcBAMvebksfOxuFBpMeR5sUhzHTKtqdi6NkqQKZAdkeaGVJ9Yc5bNbvL3JLzCgB7EEqsVUTZADhidVcC3zJV1UZB4Uz0Hm3fZB9IETnWb4I8MoK8nxpenC1lYwnjwnRwMHVZA1FKw8d3A45t9xCxmPKnm6kIr5ZCA8wZDZD' and id_user= 'oliverbp88@gmail.com' and api_nlp= 'http://localhost:8282/' ;\n"
     ]
    }
   ],
   "source": [
    "if __name__ == \"__main__\":    \n",
    "    app.run(host='localhost',port='8181')"
   ]
  },
  {
   "cell_type": "code",
   "execution_count": null,
   "metadata": {},
   "outputs": [],
   "source": []
  },
  {
   "cell_type": "code",
   "execution_count": null,
   "metadata": {},
   "outputs": [],
   "source": []
  }
 ],
 "metadata": {
  "kernelspec": {
   "display_name": "Python 3",
   "language": "python",
   "name": "python3"
  },
  "language_info": {
   "codemirror_mode": {
    "name": "ipython",
    "version": 3
   },
   "file_extension": ".py",
   "mimetype": "text/x-python",
   "name": "python",
   "nbconvert_exporter": "python",
   "pygments_lexer": "ipython3",
   "version": "3.7.4"
  }
 },
 "nbformat": 4,
 "nbformat_minor": 2
}
