{
 "cells": [
  {
   "cell_type": "code",
   "execution_count": 1,
   "metadata": {},
   "outputs": [
    {
     "data": {
      "text/html": [
       "<style>.container { width:100% !important; }</style>"
      ],
      "text/plain": [
       "<IPython.core.display.HTML object>"
      ]
     },
     "metadata": {},
     "output_type": "display_data"
    }
   ],
   "source": [
    "import os\n",
    "import copy\n",
    "import pybars\n",
    "import json\n",
    "from manejo_base_de_datos import baseDatos\n",
    "from manejo_archivos_json import dataJson\n",
    "from IPython.core.display import display, HTML\n",
    "display(HTML(\"<style>.container { width:100% !important; }</style>\"))\n",
    "manejadorBaseDeDatos=baseDatos(\"postgres\",\"123456789\",\"127.0.0.1\",\"5432\",\"chatblocks\")#manejador de consultas a base de datos \n",
    "manejadorArchivos = dataJson(os.getcwd()+\"/\") "
   ]
  },
  {
   "cell_type": "code",
   "execution_count": 2,
   "metadata": {},
   "outputs": [],
   "source": [
    "def compiladorPybars(source,jsonData):\n",
    "    compiler = pybars.Compiler()\n",
    "    template = compiler.compile(source)\n",
    "    output = template(jsonData)\n",
    "    json_acceptable_string = output.replace(\"'\", \"\\\"\")\n",
    "    datos = json.loads(json_acceptable_string)\n",
    "    return datos"
   ]
  },
  {
   "cell_type": "code",
   "execution_count": 3,
   "metadata": {},
   "outputs": [],
   "source": [
    "def cargarVariable(datosVariable,id_robot):\n",
    "    datosVariable.update({\"id_robot\":id_robot})\n",
    "    variable = manejadorBaseDeDatos.insertDatos(datosVariable[\"variable\"],\"variables\")\n",
    "    return int(variable[\"id_var\"])\n",
    "    "
   ]
  },
  {
   "cell_type": "code",
   "execution_count": 4,
   "metadata": {},
   "outputs": [],
   "source": [
    "def obtenerDatosQR(datosJson):    \n",
    "    contenido=datosJson[\"content\"]\n",
    "    opciones=list()\n",
    "    outputs=list()\n",
    "    for i in range(len(datosJson[\"buttons\"])):\n",
    "        opciones.append(datosJson[\"buttons\"][i][\"title\"])\n",
    "        outputs.append(datosJson[\"buttons\"][i][\"next_block\"])\n",
    "    datos={\"contenido\":contenido,\n",
    "           \"opciones\":\",\".join(opciones),\n",
    "           \"next_id\":\",\".join(outputs)        \n",
    "         }\n",
    "    return datos"
   ]
  },
  {
   "cell_type": "code",
   "execution_count": 5,
   "metadata": {},
   "outputs": [],
   "source": [
    "def obtenerDatosSlide(bloque):    \n",
    "    datosBloqueSlide = {\"namestate\":bloque[\"name\"],\"blocktype\":bloque[\"type\"],\"typingtime\":bloque[\"parameters\"][\"typingtime\"],\"default_id\":bloque[\"outputs\"][\"default_id\"],\"id_var\":bloque[\"parameters\"][\"id_var\"],\"id_robot\":bloque[\"parameters\"][\"id_robot\"]}\n",
    "    bloqueSlide  = manejadorBaseDeDatos.insertDatos(datosBloqueSlide,\"bloqueslide\")\n",
    "    idBloqueSlide = bloqueSlide[\"id_block\"]    \n",
    "    elementos = copy.deepcopy(bloque[\"parameters\"][\"json\"])\n",
    "    next_id=list()\n",
    "    for elemento in range(len(elementos)):\n",
    "        datosElemento = copy.deepcopy(elementos[elemento])\n",
    "        datosElemento.update({\"blocktype\":bloque[\"type\"]})\n",
    "        datosElemento.update({\"id_block\":idBloqueSlide})\n",
    "        del datosElemento[\"buttons\"]   \n",
    "        datosElementoBase =  manejadorBaseDeDatos.insertDatos(datosElemento,\"elementos\")\n",
    "        idElemento=datosElementoBase[\"id_elements\"]                \n",
    "        botones=copy.deepcopy(elementos[elemento][\"buttons\"])\n",
    "        for b in range(len(botones)):\n",
    "            datosBoton = copy.deepcopy(botones[b])\n",
    "            datosBoton.update({\"id_elemento\":str(idElemento)})\n",
    "            datosBoton.update({\"contentbutton\":botones[b][\"opc_nextid\"]})                    \n",
    "            datosBoton={\"id_elemento\":str(idElemento),\"titlebutton\":botones[b][\"titlebutton\"],\"typebutton\":botones[b][\"typebutton\"],\"contentbutton\":botones[b][\"opc_nextid\"],\"opc_nextid\":botones[b][\"opc_nextid\"]}\n",
    "            boton = manejadorBaseDeDatos.insertDatos(datosBoton,\"botones\") \n",
    "            next_id.append(botones[b][\"opc_nextid\"])\n",
    "    next_id=\",\".join(next_id)\n",
    "    tabla = \"bloqueslide\"\n",
    "    datosActualizar={\"next_id\":next_id}\n",
    "    datos={\"id_block\":idBloqueSlide}            \n",
    "    tabla = \"bloqueslide\"   \n",
    "    manejadorBaseDeDatos.update(datosActualizar,datos,tabla)   "
   ]
  },
  {
   "cell_type": "code",
   "execution_count": 6,
   "metadata": {},
   "outputs": [],
   "source": [
    "manejadorBaseDeDatos.borrarBaseDatos()"
   ]
  },
  {
   "cell_type": "code",
   "execution_count": 7,
   "metadata": {},
   "outputs": [],
   "source": [
    "botData=manejadorArchivos.abrirJson(\"chatbotFB.json\")\n",
    "datosBot= manejadorBaseDeDatos.insertDatos(botData,\"robots\")\n",
    "idBot=int(datosBot[\"id_robot\"])\n",
    "\n",
    "bloquesBot = manejadorArchivos.abrirJson(\"simulacionbloquesBotPrueba.json\")\n",
    "for bloque,datosBloque in bloquesBot.items():\n",
    "    datosBloque[\"parameters\"].update({\"id_robot\":idBot})  \n",
    "    "
   ]
  },
  {
   "cell_type": "code",
   "execution_count": 8,
   "metadata": {},
   "outputs": [
    {
     "name": "stdout",
     "output_type": "stream",
     "text": [
      "{'name_var': 'contador_mensajesIntroduccion', 'opc_type': 'Variable', 'var': 0, 'opc_data': 'Numerico'}\n",
      "{'name_var': 'qr_menuIntro', 'opc_type': 'Variable', 'var': 0, 'opc_data': 'Numerico'}\n",
      "{'name_var': 'qrd_mensaje_premenu', 'opc_type': 'Variable', 'var': 0, 'opc_data': 'Numerico'}\n",
      "{'name_var': 'mensage_intro2', 'opc_type': 'Variable', 'var': 0, 'opc_data': 'Numerico'}\n",
      "{'name_var': 'qr_personalidad', 'opc_type': 'Variable', 'var': 0, 'opc_data': 'Numerico'}\n",
      "{'name_var': 'var_pregunta', 'opc_type': 'Variable', 'var': 0, 'opc_data': 'String'}\n",
      "\n",
      "\n",
      "{\"intentions\": [], \"entities\": [], \"conditionals\": [{\"condition\": \"#identidad\", \"next\": \"mensajesIntroduccion_01inicial_inicial\"}, {\"condition\": \"#edad\", \"next\": \"infoEdad_01inicial_inicial\"}, {\"condition\": \"#color\", \"next\": \"infoColor_01inicial_inicial\"}]}\n",
      "bot cargado con exito \n"
     ]
    }
   ],
   "source": [
    "for bot in bloquesBot.keys():    \n",
    "    bloque = dict() \n",
    "    if bloquesBot[bot][\"parameters\"].get(\"jsonVariable\"):  \n",
    "        print(bloquesBot[bot][\"parameters\"][\"jsonVariable\"][\"variable\"])\n",
    "        bloquesBot[bot][\"parameters\"][\"jsonVariable\"][\"variable\"].update({\"id_robot\":bloquesBot[bot][\"parameters\"][\"id_robot\"]})\n",
    "        \n",
    "        variable = manejadorBaseDeDatos.insertDatos( bloquesBot[bot][\"parameters\"][\"jsonVariable\"][\"variable\"],\"variables\")         \n",
    "        bloquesBot[bot][\"parameters\"].update({\"id_var\":int(variable[\"id_var\"])})  \n",
    "        del bloquesBot[bot][\"parameters\"][\"jsonVariable\"]\n",
    "    if bloquesBot[bot][\"type\"] == \"quickReply\": \n",
    "        del bloquesBot[bot][\"parameters\"][\"content\"]\n",
    "        del bloquesBot[bot][\"parameters\"][\"buttonTrue\"]\n",
    "        del bloquesBot[bot][\"parameters\"][\"buttonFalse\"]\n",
    "        del bloquesBot[bot][\"parameters\"][\"typeVisual\"]\n",
    "        del bloquesBot[bot][\"parameters\"][\"handlebars\"]       \n",
    "        QR = obtenerDatosQR(bloquesBot[bot][\"parameters\"][\"json\"])  \n",
    "        bloque.update(QR)\n",
    "        del bloquesBot[bot][\"parameters\"][\"json\"]       \n",
    "        \n",
    "    elif bloquesBot[bot][\"type\"] == \"slide\":\n",
    "        del bloquesBot[bot][\"parameters\"][\"content\"]\n",
    "        del bloquesBot[bot][\"parameters\"][\"buttonTrue\"]\n",
    "        del bloquesBot[bot][\"parameters\"][\"buttonFalse\"]\n",
    "        del bloquesBot[bot][\"parameters\"][\"typeVisual\"]\n",
    "        del bloquesBot[bot][\"parameters\"][\"handlebars\"]\n",
    "        slide= obtenerDatosSlide(bloquesBot[bot])\n",
    "        del bloquesBot[bot][\"parameters\"][\"json\"]  \n",
    "    elif bloquesBot[bot][\"type\"] == \"nlp\":\n",
    "        dataAux = copy.deepcopy( bloquesBot[bot][\"parameters\"][\"json_nlp\"])\n",
    "        bloquesBot[bot][\"parameters\"][\"json_nlp\"] = str(json.dumps(dataAux))\n",
    "        print(\"\\n\")\n",
    "        print( bloquesBot[bot][\"parameters\"][\"json_nlp\"] )\n",
    "    for salida in bloquesBot[bot][\"outputs\"]:\n",
    "        if type(bloquesBot[bot][\"outputs\"][salida]) != list:\n",
    "            bloque.update({salida:bloquesBot[bot][\"outputs\"][salida]})\n",
    "    bloque.update({\"namestate\":bloquesBot[bot][\"name\"]})\n",
    "    bloque.update(bloquesBot[bot][\"parameters\"])\n",
    "    bloque.update({\"blocktype\":bloquesBot[bot][\"type\"]})    \n",
    "    if bloquesBot[bot][\"type\"] == \"slide\":\n",
    "        pass\n",
    "    else:        \n",
    "        manejadorBaseDeDatos.insertDatos(bloque,\"bloque\"+bloquesBot[bot][\"type\"].lower())\n",
    "print(\"bot cargado con exito \")\n",
    "        \n",
    "    "
   ]
  },
  {
   "cell_type": "code",
   "execution_count": null,
   "metadata": {},
   "outputs": [],
   "source": []
  }
 ],
 "metadata": {
  "kernelspec": {
   "display_name": "Python 3",
   "language": "python",
   "name": "python3"
  },
  "language_info": {
   "codemirror_mode": {
    "name": "ipython",
    "version": 3
   },
   "file_extension": ".py",
   "mimetype": "text/x-python",
   "name": "python",
   "nbconvert_exporter": "python",
   "pygments_lexer": "ipython3",
   "version": "3.7.4"
  }
 },
 "nbformat": 4,
 "nbformat_minor": 2
}
