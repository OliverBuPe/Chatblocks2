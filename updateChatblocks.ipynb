{
 "cells": [
  {
   "cell_type": "code",
   "execution_count": 1,
   "metadata": {},
   "outputs": [
    {
     "data": {
      "text/html": [
       "<style>.container { width:100% !important; }</style>"
      ],
      "text/plain": [
       "<IPython.core.display.HTML object>"
      ]
     },
     "metadata": {},
     "output_type": "display_data"
    }
   ],
   "source": [
    "import os\n",
    "import sys \n",
    "from flask import Flask\n",
    "from flask import request\n",
    "from flask_api import status\n",
    "import psycopg2\n",
    "import json\n",
    "import copy\n",
    "from IPython.core.display import display, HTML\n",
    "display(HTML(\"<style>.container { width:100% !important; }</style>\"))\n",
    "datosBaseDeDatos = {\"usuario\":\"postgres\",\"password\":\"123456789\",\"Host\":\"127.0.0.1\",\"puerto\":\"5432\",\"DB\":\"chatblocks\"}"
   ]
  },
  {
   "cell_type": "code",
   "execution_count": 2,
   "metadata": {},
   "outputs": [],
   "source": [
    "def abrirJson(name,path=os.getcwd()+\"/\" ):\n",
    "    with open(path+name,encoding='utf-8') as data_file:  \n",
    "        diccionario = json.load(data_file)\n",
    "    return diccionario"
   ]
  },
  {
   "cell_type": "code",
   "execution_count": 3,
   "metadata": {},
   "outputs": [],
   "source": [
    "def conexionBaseDeDatos(datosConexion):\n",
    "    try:\n",
    "        connection = psycopg2.connect(user = datosConexion[\"usuario\"],\n",
    "                              password = datosConexion[\"password\"],\n",
    "                              host = datosConexion[\"Host\"],\n",
    "                              port = datosConexion[\"puerto\"],\n",
    "                              database = datosConexion[\"DB\"])    \n",
    "        return connection\n",
    "    except(Exception, psycopg2.Error) as error:\n",
    "        print(\"Error al conectar con base de datos\", error)"
   ]
  },
  {
   "cell_type": "code",
   "execution_count": 4,
   "metadata": {},
   "outputs": [],
   "source": [
    "def consultar(connection,datos=False,consulta=False,tabla=False):\n",
    "    #print(\"datos\",datos)\n",
    "    consultaBots = list()\n",
    "    column_names = []\n",
    "    data_rows = []\n",
    "    diccionarioDatos = dict()\n",
    "    consultas = list()\n",
    "    cursor = connection.cursor()  \n",
    "    cosulta =\"\"    \n",
    "    if datos:\n",
    "        #print(\"intenatando consulta...\")\n",
    "        consulta = \"select * from \"+tabla+\" where \"        \n",
    "        i=0\n",
    "        for dato, valorDato in datos.items():\n",
    "            if i==0:\n",
    "                consulta = consulta+dato+\"= '\"+str(valorDato)+\"'\"                \n",
    "            else:             \n",
    "                consulta = consulta+\" and \"+dato+\"= '\"+str(valorDato)+\"'\" \n",
    "            i=i+1\n",
    "        #print(dato,\":\",valorDato)\n",
    "        consulta= consulta + \" ;\" \n",
    "        #print(consulta)        \n",
    "        #consulta = \"select * from robots where name_robot = '\"+datosBot[\"name_robot\"]+\"' and id_face = '\"+ datosBot[\"id_face\"]+\"' and  type_blocki = '\"+datosBot[\"type_blocki\"]+\"' and access_token= '\"+datosBot[\"access_token\"]+\"' and id_user = '\"+datosBot[\"id_user\"]+\"';\"\n",
    "    print(\"consulta:\",consulta)\n",
    "    cursor.execute(consulta)    \n",
    "    column_names = [desc[0] for desc in cursor.description]  \n",
    "    rows = cursor.fetchall()\n",
    "    for row in rows:\n",
    "        diccionarioDatos = dict()\n",
    "        for i in range(len(column_names)):\n",
    "            diccionarioDatos.update({column_names[i]:row[i]})\n",
    "        consultaBots.append(diccionarioDatos)\n",
    "    cursor.close()\n",
    "    connection.close()  \n",
    "    \n",
    "    if len(consultaBots)==1:\n",
    "        return consultaBots[0]\n",
    "    else:\n",
    "        return consultaBots"
   ]
  },
  {
   "cell_type": "code",
   "execution_count": 5,
   "metadata": {},
   "outputs": [],
   "source": [
    "def insert(datos,tabla,connection):\n",
    "    cursor = connection.cursor()\n",
    "    values = \"\"\n",
    "    datosInsert = \"\"\n",
    "    i = 0;\n",
    "    for dato, valorDato in datos.items():\n",
    "        if i==0:\n",
    "            values = values+dato \n",
    "            datosInsert = datosInsert+\"'\"+str(valorDato)+\"' \"                \n",
    "        else:\n",
    "            values = values+\",\"+dato\n",
    "            datosInsert =datosInsert+\",'\"+str(valorDato)+\"' \"\n",
    "        i=i+1\n",
    "    insersion  = \"insert into \"+tabla+\" ( \"+values+\" ) values (\"+datosInsert+\" );\" \n",
    "    cursor.execute(insersion)\n",
    "    connection.commit()\n",
    "    cursor.close()\n",
    "    connection.close()\n",
    "    return datos"
   ]
  },
  {
   "cell_type": "code",
   "execution_count": 6,
   "metadata": {},
   "outputs": [],
   "source": [
    "def update(datosActualizar,datos,tabla,connection):\n",
    "    actualizar =\" \"\n",
    "    actualizar = \"update \"+tabla+\" set\"\n",
    "    j = 0\n",
    "    for dato,informacionDato in datosActualizar.items():\n",
    "        print(dato)\n",
    "        if j==0:\n",
    "            actualizar=actualizar+\" \"+dato+\"=\"+str(informacionDato)\n",
    "            j=j+1\n",
    "        else:\n",
    "             actualizar=actualizar+\", \"+dato+\"=\"+str(informacionDato)\n",
    "    \n",
    "    i=0\n",
    "    actualizar=actualizar+\" where \"\n",
    "    for dato, valorDato in datos.items():\n",
    "        if i==0:\n",
    "            actualizar = actualizar+dato+\"= '\"+str(valorDato)+\"'\"                \n",
    "        else:             \n",
    "            actualizar = actualizar+\" and \"+dato+\"= '\"+str(valorDato)+\"'\" \n",
    "        i=i+1\n",
    "    actualizar= actualizar + \" ;\"  "
   ]
  },
  {
   "cell_type": "code",
   "execution_count": 7,
   "metadata": {},
   "outputs": [],
   "source": [
    "app = Flask(__name__)\n",
    "@app.route('/access_token', methods = ['POST'])\n",
    "def postAccessToken():\n",
    "    try:         \n",
    "        connection = conexionBaseDeDatos(datosBaseDeDatos)        \n",
    "        datosVariable = request.get_json()   \n",
    "        tabla = \"robots\"\n",
    "        con = consultaBots(connection,datos=datosVariable,tabla=tabla)        \n",
    "        listaAcessToken=list()\n",
    "        if type(con)==list:\n",
    "            for i in range(len(con)):\n",
    "                print(con[i])\n",
    "                listaAcessToken.append(con[i][\"access_token\"])\n",
    "        else:\n",
    "            listaAcessToken.append(con[\"access_token\"])         \n",
    "        print(listaAcessToken)\n",
    "        return {\"access_token\":listaAcessToken}\n",
    "    except:\n",
    "        return datosVariable,status.HTTP_404_NOT_FOUND\n"
   ]
  },
  {
   "cell_type": "code",
   "execution_count": 8,
   "metadata": {},
   "outputs": [],
   "source": [
    "@app.route('/insert/<tabla>',methods=['POST'])\n",
    "def funcionalidad(tabla):\n",
    "    try:\n",
    "        connection = conexionBaseDeDatos(datosBaseDeDatos)\n",
    "        datos = request.get_json()\n",
    "        print(datos)\n",
    "        insert(datos,str(tabla),connection)\n",
    "        connection = conexionBaseDeDatos(datosBaseDeDatos)\n",
    "        consulta = consultar(connection,datos=datos,tabla=str(tabla))\n",
    "        return consulta\n",
    "    except (Exception, psycopg2.Error) as error :\n",
    "        print(\"error\",error)\n",
    "        return tabla,status.HTTP_404_NOT_FOUND"
   ]
  },
  {
   "cell_type": "code",
   "execution_count": 9,
   "metadata": {},
   "outputs": [
    {
     "name": "stdout",
     "output_type": "stream",
     "text": [
      " * Serving Flask app \"__main__\" (lazy loading)\n",
      " * Environment: production\n",
      "   WARNING: This is a development server. Do not use it in a production deployment.\n",
      "   Use a production WSGI server instead.\n",
      " * Debug mode: off\n"
     ]
    },
    {
     "name": "stderr",
     "output_type": "stream",
     "text": [
      " * Running on http://localhost:8181/ (Press CTRL+C to quit)\n",
      "127.0.0.1 - - [02/Oct/2020 12:13:15] \"POST /insert/robots HTTP/1.1\" 200 -\n",
      "127.0.0.1 - - [02/Oct/2020 12:13:15] \"POST /insert/variables HTTP/1.1\" 200 -\n"
     ]
    },
    {
     "name": "stdout",
     "output_type": "stream",
     "text": [
      "{'name_robot': 'oliverBot', 'id_face': '430761350747124', 'block_ini': 'mensajesIntroduccion_01inicial_inicial', 'type_blocki': 'case', 'access_token': 'EAAJjZAQWaAbgBAAxC53jaIzoxSpgY3qZBc0pYDlb5g3E58pTJ35vAzrsZBVSyiYPhpgZB3ZAeNqx18ImA0LZCcsqL96hFDqsE9fcXUk52ofVsqWeerVDKp0cGo2wvohq5ISdkCUX7ZByd4c80Y6BstQYbe5noQhC8L7wdtMuKyZAAgZDZD', 'id_user': 'oliverbp88@gmail.com', 'api_nlp': 'Sin Api'}\n",
      "consulta: select * from robots where name_robot= 'oliverBot' and id_face= '430761350747124' and block_ini= 'mensajesIntroduccion_01inicial_inicial' and type_blocki= 'case' and access_token= 'EAAJjZAQWaAbgBAAxC53jaIzoxSpgY3qZBc0pYDlb5g3E58pTJ35vAzrsZBVSyiYPhpgZB3ZAeNqx18ImA0LZCcsqL96hFDqsE9fcXUk52ofVsqWeerVDKp0cGo2wvohq5ISdkCUX7ZByd4c80Y6BstQYbe5noQhC8L7wdtMuKyZAAgZDZD' and id_user= 'oliverbp88@gmail.com' and api_nlp= 'Sin Api' ;\n",
      "{'name_var': 'contador_mensajesIntroduccion', 'opc_type': 'Variable', 'var': 0, 'opc_data': 'Numerico', 'id_robot': 338}\n",
      "consulta: select * from variables where name_var= 'contador_mensajesIntroduccion' and opc_type= 'Variable' and var= '0' and opc_data= 'Numerico' and id_robot= '338' ;\n",
      "{'default_id': 'menuIntroduccion_01inicial_inicial', 'namestate': 'mensajesIntroduccion_01inicial_inicial', 'method': 'GET', 'typing_messages': 3, 'url': 'http://127.0.0.1:1111/increase/contador_mensajesIntroduccion/3', 'messages': '¡Hola! Soy Niza.,Un asistente virtual para atención ciudadana puedo responder dudas sobre tu agua potable,Te gustaría saber cómo utilizarme', 'default_message': 'No te entiendo', 'type_default_message': 'text', 'type_messages': 'text,text,text', 'options': 'mensajesIntroduccion_01inicial_inicial,mensajesIntroduccion_01inicial_inicial,mensajesIntroduccion_01inicial_restarVariable', 'id_robot': 338, 'id_var': 816, 'blocktype': 'case'}\n"
     ]
    },
    {
     "name": "stderr",
     "output_type": "stream",
     "text": [
      "127.0.0.1 - - [02/Oct/2020 12:13:15] \"POST /insert/bloquecase HTTP/1.1\" 200 -\n",
      "127.0.0.1 - - [02/Oct/2020 12:13:15] \"POST /insert/bloqueinternalprocess HTTP/1.1\" 200 -\n",
      "127.0.0.1 - - [02/Oct/2020 12:13:15] \"POST /insert/variables HTTP/1.1\" 200 -\n",
      "127.0.0.1 - - [02/Oct/2020 12:13:15] \"POST /insert/bloquequickreply HTTP/1.1\" 200 -\n",
      "127.0.0.1 - - [02/Oct/2020 12:13:15] \"POST /insert/variables HTTP/1.1\" 200 -\n",
      "127.0.0.1 - - [02/Oct/2020 12:13:15] \"POST /insert/bloquecase HTTP/1.1\" 200 -\n",
      "127.0.0.1 - - [02/Oct/2020 12:13:15] \"POST /insert/variables HTTP/1.1\" 200 -\n"
     ]
    },
    {
     "name": "stdout",
     "output_type": "stream",
     "text": [
      "consulta: select * from bloquecase where default_id= 'menuIntroduccion_01inicial_inicial' and namestate= 'mensajesIntroduccion_01inicial_inicial' and method= 'GET' and typing_messages= '3' and url= 'http://127.0.0.1:1111/increase/contador_mensajesIntroduccion/3' and messages= '¡Hola! Soy Niza.,Un asistente virtual para atención ciudadana puedo responder dudas sobre tu agua potable,Te gustaría saber cómo utilizarme' and default_message= 'No te entiendo' and type_default_message= 'text' and type_messages= 'text,text,text' and options= 'mensajesIntroduccion_01inicial_inicial,mensajesIntroduccion_01inicial_inicial,mensajesIntroduccion_01inicial_restarVariable' and id_robot= '338' and id_var= '816' and blocktype= 'case' ;\n",
      "{'next_true': 'menuIntroduccion_01inicial_inicial', 'next_false': 'menuIntroduccion_01inicial_inicial', 'namestate': 'mensajesIntroduccion_01inicial_restarVariable', 'method': 'GET', 'url': 'http://127.0.0.1:1111/restar/contador_mensajesIntroduccion', 'id_robot': 338, 'blocktype': 'internalProcess'}\n",
      "consulta: select * from bloqueinternalprocess where next_true= 'menuIntroduccion_01inicial_inicial' and next_false= 'menuIntroduccion_01inicial_inicial' and namestate= 'mensajesIntroduccion_01inicial_restarVariable' and method= 'GET' and url= 'http://127.0.0.1:1111/restar/contador_mensajesIntroduccion' and id_robot= '338' and blocktype= 'internalProcess' ;\n",
      "{'name_var': 'qr_menuIntro', 'opc_type': 'Variable', 'var': 0, 'opc_data': 'Numerico', 'id_robot': 338}\n",
      "consulta: select * from variables where name_var= 'qr_menuIntro' and opc_type= 'Variable' and var= '0' and opc_data= 'Numerico' and id_robot= '338' ;\n",
      "{'contenido': 'Toca uno de los botones azules para saber tu elección', 'opciones': '¡ok veamos!,Prefiero ir al menú', 'next_id': 'mensajesIntroduccion2_01inicial_inicial,mensajePreMenu_01inicial_inicial', 'default_id': 'mensajePreMenu_01inicial_inicial', 'namestate': 'menuIntroduccion_01inicial_inicial', 'typingtime': 5, 'id_robot': 338, 'id_var': 817, 'blocktype': 'quickReply'}\n",
      "consulta: select * from bloquequickreply where contenido= 'Toca uno de los botones azules para saber tu elección' and opciones= '¡ok veamos!,Prefiero ir al menú' and next_id= 'mensajesIntroduccion2_01inicial_inicial,mensajePreMenu_01inicial_inicial' and default_id= 'mensajePreMenu_01inicial_inicial' and namestate= 'menuIntroduccion_01inicial_inicial' and typingtime= '5' and id_robot= '338' and id_var= '817' and blocktype= 'quickReply' ;\n",
      "{'name_var': 'qrd_mensaje_premenu', 'opc_type': 'Variable', 'var': 0, 'opc_data': 'Numerico', 'id_robot': 338}\n",
      "consulta: select * from variables where name_var= 'qrd_mensaje_premenu' and opc_type= 'Variable' and var= '0' and opc_data= 'Numerico' and id_robot= '338' ;\n",
      "{'default_id': 'qrPersonalidad_01inicial_inicial', 'namestate': 'mensajePreMenu_01inicial_inicial', 'method': 'GET', 'typing_messages': 3, 'url': 'http://127.0.0.1:1111/random/qrd_mensaje_premenu/3', 'messages': '¿Ahora en qué puedo ayudarte?,¿Cómo puedo ayudarte? ,¿Qué te gustaría hacer?', 'default_message': 'no te entiendo', 'type_default_message': 'text', 'type_messages': 'text,text,text', 'options': 'qrPersonalidad_01inicial_inicial,qrPersonalidad_01inicial_inicial,qrPersonalidad_01inicial_inicial', 'id_robot': 338, 'id_var': 818, 'blocktype': 'case'}\n",
      "consulta: select * from bloquecase where default_id= 'qrPersonalidad_01inicial_inicial' and namestate= 'mensajePreMenu_01inicial_inicial' and method= 'GET' and typing_messages= '3' and url= 'http://127.0.0.1:1111/random/qrd_mensaje_premenu/3' and messages= '¿Ahora en qué puedo ayudarte?,¿Cómo puedo ayudarte? ,¿Qué te gustaría hacer?' and default_message= 'no te entiendo' and type_default_message= 'text' and type_messages= 'text,text,text' and options= 'qrPersonalidad_01inicial_inicial,qrPersonalidad_01inicial_inicial,qrPersonalidad_01inicial_inicial' and id_robot= '338' and id_var= '818' and blocktype= 'case' ;\n",
      "{'name_var': 'mensage_intro2', 'opc_type': 'Variable', 'var': 0, 'opc_data': 'Numerico', 'id_robot': 338}\n",
      "consulta: select * from variables where name_var= 'mensage_intro2' and opc_type= 'Variable' and var= '0' and opc_data= 'Numerico' and id_robot= '338' ;\n"
     ]
    },
    {
     "name": "stderr",
     "output_type": "stream",
     "text": [
      "127.0.0.1 - - [02/Oct/2020 12:13:15] \"POST /insert/bloquecase HTTP/1.1\" 200 -\n",
      "127.0.0.1 - - [02/Oct/2020 12:13:15] \"POST /insert/bloqueinternalprocess HTTP/1.1\" 200 -\n",
      "127.0.0.1 - - [02/Oct/2020 12:13:15] \"POST /insert/variables HTTP/1.1\" 200 -\n",
      "127.0.0.1 - - [02/Oct/2020 12:13:15] \"POST /insert/bloquequickreply HTTP/1.1\" 200 -\n",
      "127.0.0.1 - - [02/Oct/2020 12:13:15] \"POST /insert/bloqueinformativo HTTP/1.1\" 200 -\n",
      "127.0.0.1 - - [02/Oct/2020 12:13:15] \"POST /insert/bloqueinformativo HTTP/1.1\" 200 -\n",
      "127.0.0.1 - - [02/Oct/2020 12:13:15] \"POST /insert/variables HTTP/1.1\" 200 -\n",
      "127.0.0.1 - - [02/Oct/2020 12:13:15] \"POST /insert/bloqueinput HTTP/1.1\" 200 -\n"
     ]
    },
    {
     "name": "stdout",
     "output_type": "stream",
     "text": [
      "{'default_id': 'mensajesIntroduccion_01inicial_inicial', 'namestate': 'mensajesIntroduccion2_01inicial_inicial', 'method': 'GET', 'typing_messages': 3, 'url': 'http://127.0.0.1:1111/increase/mensage_intro2/2', 'messages': 'Soy un robot que funciona con un sistema automático llamado inteligencia artificial.,Cada vez que escribas intentare entenderte si algo se me dificulta siempre podre contactarte con un humano.', 'default_message': 'no logro comprenderte', 'type_default_message': 'text', 'type_messages': 'text,text', 'options': 'mensajesIntroduccion2_01inicial_inicial,mensajesIntroduccion2_01inicial_inicial', 'id_robot': 338, 'id_var': 819, 'blocktype': 'case'}\n",
      "consulta: select * from bloquecase where default_id= 'mensajesIntroduccion_01inicial_inicial' and namestate= 'mensajesIntroduccion2_01inicial_inicial' and method= 'GET' and typing_messages= '3' and url= 'http://127.0.0.1:1111/increase/mensage_intro2/2' and messages= 'Soy un robot que funciona con un sistema automático llamado inteligencia artificial.,Cada vez que escribas intentare entenderte si algo se me dificulta siempre podre contactarte con un humano.' and default_message= 'no logro comprenderte' and type_default_message= 'text' and type_messages= 'text,text' and options= 'mensajesIntroduccion2_01inicial_inicial,mensajesIntroduccion2_01inicial_inicial' and id_robot= '338' and id_var= '819' and blocktype= 'case' ;\n",
      "{'next_true': 'pregunta_01inicial_inicial', 'next_false': 'pregunta_01inicial_inicial', 'namestate': 'mensajesIntroduccion2_01inicial_restarVariable', 'method': 'GET', 'url': 'http://127.0.0.1:1111/restar/mensage_intro2', 'id_robot': 338, 'blocktype': 'internalProcess'}\n",
      "consulta: select * from bloqueinternalprocess where next_true= 'pregunta_01inicial_inicial' and next_false= 'pregunta_01inicial_inicial' and namestate= 'mensajesIntroduccion2_01inicial_restarVariable' and method= 'GET' and url= 'http://127.0.0.1:1111/restar/mensage_intro2' and id_robot= '338' and blocktype= 'internalProcess' ;\n",
      "{'name_var': 'qr_personalidad', 'opc_type': 'Variable', 'var': 0, 'opc_data': 'Numerico', 'id_robot': 338}\n",
      "consulta: select * from variables where name_var= 'qr_personalidad' and opc_type= 'Variable' and var= '0' and opc_data= 'Numerico' and id_robot= '338' ;\n",
      "{'contenido': 'Selecciona una opción', 'opciones': '¿Con quién estoy hablando?,¿Qué edad tienes?,¿Cuál es tu color favorito?', 'next_id': 'mensajesIntroduccion_01inicial_inicial,infoEdad_01inicial_inicial,infoColor_01inicial_inicial', 'default_id': 'NLPpersonalidad_01inicial_inicial', 'namestate': 'qrPersonalidad_01inicial_inicial', 'typingtime': 3, 'id_robot': 338, 'id_var': 820, 'blocktype': 'quickReply'}\n",
      "consulta: select * from bloquequickreply where contenido= 'Selecciona una opción' and opciones= '¿Con quién estoy hablando?,¿Qué edad tienes?,¿Cuál es tu color favorito?' and next_id= 'mensajesIntroduccion_01inicial_inicial,infoEdad_01inicial_inicial,infoColor_01inicial_inicial' and default_id= 'NLPpersonalidad_01inicial_inicial' and namestate= 'qrPersonalidad_01inicial_inicial' and typingtime= '3' and id_robot= '338' and id_var= '820' and blocktype= 'quickReply' ;\n",
      "{'next_id': 'mensajePreMenu_01inicial_inicial', 'namestate': 'infoEdad_01inicial_inicial', 'contenido': 'Mmmm yo tengo 21 años con 6 meses', 'contenttype': 'text', 'typingtime': 3, 'id_robot': 338, 'blocktype': 'informativo'}\n",
      "consulta: select * from bloqueinformativo where next_id= 'mensajePreMenu_01inicial_inicial' and namestate= 'infoEdad_01inicial_inicial' and contenido= 'Mmmm yo tengo 21 años con 6 meses' and contenttype= 'text' and typingtime= '3' and id_robot= '338' and blocktype= 'informativo' ;\n",
      "{'next_id': 'mensajePreMenu_01inicial_inicial', 'namestate': 'infoColor_01inicial_inicial', 'contenido': 'Mi color favorito es el azul porque me recuerda el cielo y el mar.', 'contenttype': 'text', 'typingtime': 3, 'id_robot': 338, 'blocktype': 'informativo'}\n",
      "consulta: select * from bloqueinformativo where next_id= 'mensajePreMenu_01inicial_inicial' and namestate= 'infoColor_01inicial_inicial' and contenido= 'Mi color favorito es el azul porque me recuerda el cielo y el mar.' and contenttype= 'text' and typingtime= '3' and id_robot= '338' and blocktype= 'informativo' ;\n",
      "{'name_var': 'var_pregunta', 'opc_type': 'Variable', 'var': 0, 'opc_data': 'String', 'id_robot': 338}\n",
      "consulta: select * from variables where name_var= 'var_pregunta' and opc_type= 'Variable' and var= '0' and opc_data= 'String' and id_robot= '338' ;\n",
      "{'next_id': 'NLPpersonalidad_01inicial_inicial', 'default_id': 'NLPpersonalidad_01inicial_inicial', 'namestate': 'pregunta_01inicial_inicial', 'contenido': '¿Qué deseas hacer?', 'contenttype': 'text', 'typingtime': 1, 'validacion': '.*', 'id_robot': 338, 'id_var': 821, 'blocktype': 'input'}\n",
      "consulta: select * from bloqueinput where next_id= 'NLPpersonalidad_01inicial_inicial' and default_id= 'NLPpersonalidad_01inicial_inicial' and namestate= 'pregunta_01inicial_inicial' and contenido= '¿Qué deseas hacer?' and contenttype= 'text' and typingtime= '1' and validacion= '.*' and id_robot= '338' and id_var= '821' and blocktype= 'input' ;\n"
     ]
    },
    {
     "name": "stderr",
     "output_type": "stream",
     "text": [
      "127.0.0.1 - - [02/Oct/2020 12:13:15] \"POST /insert/bloquenlp HTTP/1.1\" 200 -\n"
     ]
    },
    {
     "name": "stdout",
     "output_type": "stream",
     "text": [
      "{'default_id': 'mensajesIntroduccion_01inicial_inicial', 'namestate': 'NLPpersonalidad_01inicial_inicial', 'default_message': 'Lo siento pero no logro comprender lo que me pides', 'json_nlp': '{\"intentions\": [], \"entities\": [], \"conditionals\": [{\"condition\": \"#identidad\", \"next\": \"mensajesIntroduccion_01inicial_inicial\"}, {\"condition\": \"#edad\", \"next\": \"mensajePreMenu_01inicial_inicial\"}, {\"condition\": \"#color\", \"next\": \"mensajePreMenu_01inicial_inicial\"}]}', 'id_robot': 338, 'blocktype': 'nlp'}\n",
      "consulta: select * from bloquenlp where default_id= 'mensajesIntroduccion_01inicial_inicial' and namestate= 'NLPpersonalidad_01inicial_inicial' and default_message= 'Lo siento pero no logro comprender lo que me pides' and json_nlp= '{\"intentions\": [], \"entities\": [], \"conditionals\": [{\"condition\": \"#identidad\", \"next\": \"mensajesIntroduccion_01inicial_inicial\"}, {\"condition\": \"#edad\", \"next\": \"mensajePreMenu_01inicial_inicial\"}, {\"condition\": \"#color\", \"next\": \"mensajePreMenu_01inicial_inicial\"}]}' and id_robot= '338' and blocktype= 'nlp' ;\n"
     ]
    },
    {
     "name": "stderr",
     "output_type": "stream",
     "text": [
      "127.0.0.1 - - [02/Oct/2020 12:14:19] \"POST /insert/robots HTTP/1.1\" 200 -\n"
     ]
    },
    {
     "name": "stdout",
     "output_type": "stream",
     "text": [
      "{'name_robot': 'oliverBot', 'id_face': '430761350747124', 'block_ini': 'mensajesIntroduccion_01inicial_inicial', 'type_blocki': 'case', 'access_token': 'EAAJjZAQWaAbgBAAxC53jaIzoxSpgY3qZBc0pYDlb5g3E58pTJ35vAzrsZBVSyiYPhpgZB3ZAeNqx18ImA0LZCcsqL96hFDqsE9fcXUk52ofVsqWeerVDKp0cGo2wvohq5ISdkCUX7ZByd4c80Y6BstQYbe5noQhC8L7wdtMuKyZAAgZDZD', 'id_user': 'oliverbp88@gmail.com', 'api_nlp': 'Sin Api'}\n",
      "consulta: select * from robots where name_robot= 'oliverBot' and id_face= '430761350747124' and block_ini= 'mensajesIntroduccion_01inicial_inicial' and type_blocki= 'case' and access_token= 'EAAJjZAQWaAbgBAAxC53jaIzoxSpgY3qZBc0pYDlb5g3E58pTJ35vAzrsZBVSyiYPhpgZB3ZAeNqx18ImA0LZCcsqL96hFDqsE9fcXUk52ofVsqWeerVDKp0cGo2wvohq5ISdkCUX7ZByd4c80Y6BstQYbe5noQhC8L7wdtMuKyZAAgZDZD' and id_user= 'oliverbp88@gmail.com' and api_nlp= 'Sin Api' ;\n",
      "{'name_var': 'contador_mensajesIntroduccion', 'opc_type': 'Variable', 'var': 0, 'opc_data': 'Numerico', 'id_robot': 339}\n"
     ]
    },
    {
     "name": "stderr",
     "output_type": "stream",
     "text": [
      "127.0.0.1 - - [02/Oct/2020 12:14:19] \"POST /insert/variables HTTP/1.1\" 200 -\n",
      "127.0.0.1 - - [02/Oct/2020 12:14:19] \"POST /insert/bloquecase HTTP/1.1\" 200 -\n",
      "127.0.0.1 - - [02/Oct/2020 12:14:19] \"POST /insert/bloqueinternalprocess HTTP/1.1\" 200 -\n",
      "127.0.0.1 - - [02/Oct/2020 12:14:20] \"POST /insert/variables HTTP/1.1\" 200 -\n",
      "127.0.0.1 - - [02/Oct/2020 12:14:20] \"POST /insert/bloquequickreply HTTP/1.1\" 200 -\n"
     ]
    },
    {
     "name": "stdout",
     "output_type": "stream",
     "text": [
      "consulta: select * from variables where name_var= 'contador_mensajesIntroduccion' and opc_type= 'Variable' and var= '0' and opc_data= 'Numerico' and id_robot= '339' ;\n",
      "{'default_id': 'menuIntroduccion_01inicial_inicial', 'namestate': 'mensajesIntroduccion_01inicial_inicial', 'method': 'GET', 'typing_messages': 3, 'url': 'http://127.0.0.1:1111/increase/contador_mensajesIntroduccion/3', 'messages': '¡Hola! Soy Niza.,Un asistente virtual para atención ciudadana puedo responder dudas sobre tu agua potable,Te gustaría saber cómo utilizarme', 'default_message': 'No te entiendo', 'type_default_message': 'text', 'type_messages': 'text,text,text', 'options': 'mensajesIntroduccion_01inicial_inicial,mensajesIntroduccion_01inicial_inicial,mensajesIntroduccion_01inicial_restarVariable', 'id_robot': 339, 'id_var': 822, 'blocktype': 'case'}\n",
      "consulta: select * from bloquecase where default_id= 'menuIntroduccion_01inicial_inicial' and namestate= 'mensajesIntroduccion_01inicial_inicial' and method= 'GET' and typing_messages= '3' and url= 'http://127.0.0.1:1111/increase/contador_mensajesIntroduccion/3' and messages= '¡Hola! Soy Niza.,Un asistente virtual para atención ciudadana puedo responder dudas sobre tu agua potable,Te gustaría saber cómo utilizarme' and default_message= 'No te entiendo' and type_default_message= 'text' and type_messages= 'text,text,text' and options= 'mensajesIntroduccion_01inicial_inicial,mensajesIntroduccion_01inicial_inicial,mensajesIntroduccion_01inicial_restarVariable' and id_robot= '339' and id_var= '822' and blocktype= 'case' ;\n",
      "{'next_true': 'menuIntroduccion_01inicial_inicial', 'next_false': 'menuIntroduccion_01inicial_inicial', 'namestate': 'mensajesIntroduccion_01inicial_restarVariable', 'method': 'GET', 'url': 'http://127.0.0.1:1111/restar/contador_mensajesIntroduccion', 'id_robot': 339, 'blocktype': 'internalProcess'}\n",
      "consulta: select * from bloqueinternalprocess where next_true= 'menuIntroduccion_01inicial_inicial' and next_false= 'menuIntroduccion_01inicial_inicial' and namestate= 'mensajesIntroduccion_01inicial_restarVariable' and method= 'GET' and url= 'http://127.0.0.1:1111/restar/contador_mensajesIntroduccion' and id_robot= '339' and blocktype= 'internalProcess' ;\n",
      "{'name_var': 'qr_menuIntro', 'opc_type': 'Variable', 'var': 0, 'opc_data': 'Numerico', 'id_robot': 339}\n",
      "consulta: select * from variables where name_var= 'qr_menuIntro' and opc_type= 'Variable' and var= '0' and opc_data= 'Numerico' and id_robot= '339' ;\n",
      "{'contenido': 'Toca uno de los botones azules para saber tu elección', 'opciones': '¡ok veamos!,Prefiero ir al menú', 'next_id': 'mensajesIntroduccion2_01inicial_inicial,mensajePreMenu_01inicial_inicial', 'default_id': 'mensajePreMenu_01inicial_inicial', 'namestate': 'menuIntroduccion_01inicial_inicial', 'typingtime': 5, 'id_robot': 339, 'id_var': 823, 'blocktype': 'quickReply'}\n",
      "consulta: select * from bloquequickreply where contenido= 'Toca uno de los botones azules para saber tu elección' and opciones= '¡ok veamos!,Prefiero ir al menú' and next_id= 'mensajesIntroduccion2_01inicial_inicial,mensajePreMenu_01inicial_inicial' and default_id= 'mensajePreMenu_01inicial_inicial' and namestate= 'menuIntroduccion_01inicial_inicial' and typingtime= '5' and id_robot= '339' and id_var= '823' and blocktype= 'quickReply' ;\n"
     ]
    },
    {
     "name": "stderr",
     "output_type": "stream",
     "text": [
      "127.0.0.1 - - [02/Oct/2020 12:14:20] \"POST /insert/variables HTTP/1.1\" 200 -\n",
      "127.0.0.1 - - [02/Oct/2020 12:14:20] \"POST /insert/bloquecase HTTP/1.1\" 200 -\n",
      "127.0.0.1 - - [02/Oct/2020 12:14:20] \"POST /insert/variables HTTP/1.1\" 200 -\n",
      "127.0.0.1 - - [02/Oct/2020 12:14:20] \"POST /insert/bloquecase HTTP/1.1\" 200 -\n",
      "127.0.0.1 - - [02/Oct/2020 12:14:20] \"POST /insert/bloqueinternalprocess HTTP/1.1\" 200 -\n",
      "127.0.0.1 - - [02/Oct/2020 12:14:20] \"POST /insert/variables HTTP/1.1\" 200 -\n",
      "127.0.0.1 - - [02/Oct/2020 12:14:20] \"POST /insert/bloquequickreply HTTP/1.1\" 200 -\n",
      "127.0.0.1 - - [02/Oct/2020 12:14:20] \"POST /insert/bloqueinformativo HTTP/1.1\" 200 -\n"
     ]
    },
    {
     "name": "stdout",
     "output_type": "stream",
     "text": [
      "{'name_var': 'qrd_mensaje_premenu', 'opc_type': 'Variable', 'var': 0, 'opc_data': 'Numerico', 'id_robot': 339}\n",
      "consulta: select * from variables where name_var= 'qrd_mensaje_premenu' and opc_type= 'Variable' and var= '0' and opc_data= 'Numerico' and id_robot= '339' ;\n",
      "{'default_id': 'qrPersonalidad_01inicial_inicial', 'namestate': 'mensajePreMenu_01inicial_inicial', 'method': 'GET', 'typing_messages': 3, 'url': 'http://127.0.0.1:1111/random/qrd_mensaje_premenu/3', 'messages': '¿Ahora en qué puedo ayudarte?,¿Cómo puedo ayudarte? ,¿Qué te gustaría hacer?', 'default_message': 'no te entiendo', 'type_default_message': 'text', 'type_messages': 'text,text,text', 'options': 'qrPersonalidad_01inicial_inicial,qrPersonalidad_01inicial_inicial,qrPersonalidad_01inicial_inicial', 'id_robot': 339, 'id_var': 824, 'blocktype': 'case'}\n",
      "consulta: select * from bloquecase where default_id= 'qrPersonalidad_01inicial_inicial' and namestate= 'mensajePreMenu_01inicial_inicial' and method= 'GET' and typing_messages= '3' and url= 'http://127.0.0.1:1111/random/qrd_mensaje_premenu/3' and messages= '¿Ahora en qué puedo ayudarte?,¿Cómo puedo ayudarte? ,¿Qué te gustaría hacer?' and default_message= 'no te entiendo' and type_default_message= 'text' and type_messages= 'text,text,text' and options= 'qrPersonalidad_01inicial_inicial,qrPersonalidad_01inicial_inicial,qrPersonalidad_01inicial_inicial' and id_robot= '339' and id_var= '824' and blocktype= 'case' ;\n",
      "{'name_var': 'mensage_intro2', 'opc_type': 'Variable', 'var': 0, 'opc_data': 'Numerico', 'id_robot': 339}\n",
      "consulta: select * from variables where name_var= 'mensage_intro2' and opc_type= 'Variable' and var= '0' and opc_data= 'Numerico' and id_robot= '339' ;\n",
      "{'default_id': 'mensajesIntroduccion_01inicial_inicial', 'namestate': 'mensajesIntroduccion2_01inicial_inicial', 'method': 'GET', 'typing_messages': 3, 'url': 'http://127.0.0.1:1111/increase/mensage_intro2/2', 'messages': 'Soy un robot que funciona con un sistema automático llamado inteligencia artificial.,Cada vez que escribas intentare entenderte si algo se me dificulta siempre podre contactarte con un humano.', 'default_message': 'no logro comprenderte', 'type_default_message': 'text', 'type_messages': 'text,text', 'options': 'mensajesIntroduccion2_01inicial_inicial,mensajesIntroduccion2_01inicial_restarVariable', 'id_robot': 339, 'id_var': 825, 'blocktype': 'case'}\n",
      "consulta: select * from bloquecase where default_id= 'mensajesIntroduccion_01inicial_inicial' and namestate= 'mensajesIntroduccion2_01inicial_inicial' and method= 'GET' and typing_messages= '3' and url= 'http://127.0.0.1:1111/increase/mensage_intro2/2' and messages= 'Soy un robot que funciona con un sistema automático llamado inteligencia artificial.,Cada vez que escribas intentare entenderte si algo se me dificulta siempre podre contactarte con un humano.' and default_message= 'no logro comprenderte' and type_default_message= 'text' and type_messages= 'text,text' and options= 'mensajesIntroduccion2_01inicial_inicial,mensajesIntroduccion2_01inicial_restarVariable' and id_robot= '339' and id_var= '825' and blocktype= 'case' ;\n",
      "{'next_true': 'pregunta_01inicial_inicial', 'next_false': 'pregunta_01inicial_inicial', 'namestate': 'mensajesIntroduccion2_01inicial_restarVariable', 'method': 'GET', 'url': 'http://127.0.0.1:1111/restar/mensage_intro2', 'id_robot': 339, 'blocktype': 'internalProcess'}\n",
      "consulta: select * from bloqueinternalprocess where next_true= 'pregunta_01inicial_inicial' and next_false= 'pregunta_01inicial_inicial' and namestate= 'mensajesIntroduccion2_01inicial_restarVariable' and method= 'GET' and url= 'http://127.0.0.1:1111/restar/mensage_intro2' and id_robot= '339' and blocktype= 'internalProcess' ;\n",
      "{'name_var': 'qr_personalidad', 'opc_type': 'Variable', 'var': 0, 'opc_data': 'Numerico', 'id_robot': 339}\n",
      "consulta: select * from variables where name_var= 'qr_personalidad' and opc_type= 'Variable' and var= '0' and opc_data= 'Numerico' and id_robot= '339' ;\n",
      "{'contenido': 'Selecciona una opción', 'opciones': '¿Con quién estoy hablando?,¿Qué edad tienes?,¿Cuál es tu color favorito?', 'next_id': 'mensajesIntroduccion_01inicial_inicial,infoEdad_01inicial_inicial,infoColor_01inicial_inicial', 'default_id': 'NLPpersonalidad_01inicial_inicial', 'namestate': 'qrPersonalidad_01inicial_inicial', 'typingtime': 3, 'id_robot': 339, 'id_var': 826, 'blocktype': 'quickReply'}\n",
      "consulta: select * from bloquequickreply where contenido= 'Selecciona una opción' and opciones= '¿Con quién estoy hablando?,¿Qué edad tienes?,¿Cuál es tu color favorito?' and next_id= 'mensajesIntroduccion_01inicial_inicial,infoEdad_01inicial_inicial,infoColor_01inicial_inicial' and default_id= 'NLPpersonalidad_01inicial_inicial' and namestate= 'qrPersonalidad_01inicial_inicial' and typingtime= '3' and id_robot= '339' and id_var= '826' and blocktype= 'quickReply' ;\n",
      "{'next_id': 'mensajePreMenu_01inicial_inicial', 'namestate': 'infoEdad_01inicial_inicial', 'contenido': 'Mmmm yo tengo 21 años con 6 meses', 'contenttype': 'text', 'typingtime': 3, 'id_robot': 339, 'blocktype': 'informativo'}\n",
      "consulta: select * from bloqueinformativo where next_id= 'mensajePreMenu_01inicial_inicial' and namestate= 'infoEdad_01inicial_inicial' and contenido= 'Mmmm yo tengo 21 años con 6 meses' and contenttype= 'text' and typingtime= '3' and id_robot= '339' and blocktype= 'informativo' ;\n",
      "{'next_id': 'mensajePreMenu_01inicial_inicial', 'namestate': 'infoColor_01inicial_inicial', 'contenido': 'Mi color favorito es el azul porque me recuerda el cielo y el mar.', 'contenttype': 'text', 'typingtime': 3, 'id_robot': 339, 'blocktype': 'informativo'}\n"
     ]
    },
    {
     "name": "stderr",
     "output_type": "stream",
     "text": [
      "127.0.0.1 - - [02/Oct/2020 12:14:20] \"POST /insert/bloqueinformativo HTTP/1.1\" 200 -\n",
      "127.0.0.1 - - [02/Oct/2020 12:14:20] \"POST /insert/variables HTTP/1.1\" 200 -\n",
      "127.0.0.1 - - [02/Oct/2020 12:14:20] \"POST /insert/bloqueinput HTTP/1.1\" 200 -\n",
      "127.0.0.1 - - [02/Oct/2020 12:14:20] \"POST /insert/bloquenlp HTTP/1.1\" 200 -\n"
     ]
    },
    {
     "name": "stdout",
     "output_type": "stream",
     "text": [
      "consulta: select * from bloqueinformativo where next_id= 'mensajePreMenu_01inicial_inicial' and namestate= 'infoColor_01inicial_inicial' and contenido= 'Mi color favorito es el azul porque me recuerda el cielo y el mar.' and contenttype= 'text' and typingtime= '3' and id_robot= '339' and blocktype= 'informativo' ;\n",
      "{'name_var': 'var_pregunta', 'opc_type': 'Variable', 'var': 0, 'opc_data': 'String', 'id_robot': 339}\n",
      "consulta: select * from variables where name_var= 'var_pregunta' and opc_type= 'Variable' and var= '0' and opc_data= 'String' and id_robot= '339' ;\n",
      "{'next_id': 'NLPpersonalidad_01inicial_inicial', 'default_id': 'NLPpersonalidad_01inicial_inicial', 'namestate': 'pregunta_01inicial_inicial', 'contenido': '¿Qué deseas hacer?', 'contenttype': 'text', 'typingtime': 1, 'validacion': '.*', 'id_robot': 339, 'id_var': 827, 'blocktype': 'input'}\n",
      "consulta: select * from bloqueinput where next_id= 'NLPpersonalidad_01inicial_inicial' and default_id= 'NLPpersonalidad_01inicial_inicial' and namestate= 'pregunta_01inicial_inicial' and contenido= '¿Qué deseas hacer?' and contenttype= 'text' and typingtime= '1' and validacion= '.*' and id_robot= '339' and id_var= '827' and blocktype= 'input' ;\n",
      "{'default_id': 'mensajesIntroduccion_01inicial_inicial', 'namestate': 'NLPpersonalidad_01inicial_inicial', 'default_message': 'Lo siento pero no logro comprender lo que me pides', 'json_nlp': '{\"intentions\": [], \"entities\": [], \"conditionals\": [{\"condition\": \"#identidad\", \"next\": \"mensajesIntroduccion_01inicial_inicial\"}, {\"condition\": \"#edad\", \"next\": \"mensajePreMenu_01inicial_inicial\"}, {\"condition\": \"#color\", \"next\": \"mensajePreMenu_01inicial_inicial\"}]}', 'id_robot': 339, 'blocktype': 'nlp'}\n",
      "consulta: select * from bloquenlp where default_id= 'mensajesIntroduccion_01inicial_inicial' and namestate= 'NLPpersonalidad_01inicial_inicial' and default_message= 'Lo siento pero no logro comprender lo que me pides' and json_nlp= '{\"intentions\": [], \"entities\": [], \"conditionals\": [{\"condition\": \"#identidad\", \"next\": \"mensajesIntroduccion_01inicial_inicial\"}, {\"condition\": \"#edad\", \"next\": \"mensajePreMenu_01inicial_inicial\"}, {\"condition\": \"#color\", \"next\": \"mensajePreMenu_01inicial_inicial\"}]}' and id_robot= '339' and blocktype= 'nlp' ;\n"
     ]
    },
    {
     "name": "stderr",
     "output_type": "stream",
     "text": [
      "127.0.0.1 - - [02/Oct/2020 12:32:37] \"POST /insert/robots HTTP/1.1\" 200 -\n",
      "127.0.0.1 - - [02/Oct/2020 12:32:38] \"POST /insert/variables HTTP/1.1\" 200 -\n"
     ]
    },
    {
     "name": "stdout",
     "output_type": "stream",
     "text": [
      "{'name_robot': 'oliverBot', 'id_face': '430761350747124', 'block_ini': 'mensajesIntroduccion_01inicial_inicial', 'type_blocki': 'case', 'access_token': 'EAAJjZAQWaAbgBAAxC53jaIzoxSpgY3qZBc0pYDlb5g3E58pTJ35vAzrsZBVSyiYPhpgZB3ZAeNqx18ImA0LZCcsqL96hFDqsE9fcXUk52ofVsqWeerVDKp0cGo2wvohq5ISdkCUX7ZByd4c80Y6BstQYbe5noQhC8L7wdtMuKyZAAgZDZD', 'id_user': 'oliverbp88@gmail.com', 'api_nlp': 'Sin Api'}\n",
      "consulta: select * from robots where name_robot= 'oliverBot' and id_face= '430761350747124' and block_ini= 'mensajesIntroduccion_01inicial_inicial' and type_blocki= 'case' and access_token= 'EAAJjZAQWaAbgBAAxC53jaIzoxSpgY3qZBc0pYDlb5g3E58pTJ35vAzrsZBVSyiYPhpgZB3ZAeNqx18ImA0LZCcsqL96hFDqsE9fcXUk52ofVsqWeerVDKp0cGo2wvohq5ISdkCUX7ZByd4c80Y6BstQYbe5noQhC8L7wdtMuKyZAAgZDZD' and id_user= 'oliverbp88@gmail.com' and api_nlp= 'Sin Api' ;\n",
      "{'name_var': 'contador_mensajesIntroduccion', 'opc_type': 'Variable', 'var': 0, 'opc_data': 'Numerico', 'id_robot': 340}\n",
      "consulta: select * from variables where name_var= 'contador_mensajesIntroduccion' and opc_type= 'Variable' and var= '0' and opc_data= 'Numerico' and id_robot= '340' ;\n",
      "{'default_id': 'menuIntroduccion_01inicial_inicial', 'namestate': 'mensajesIntroduccion_01inicial_inicial', 'method': 'GET', 'typing_messages': 3, 'url': 'http://127.0.0.1:1111/increase/contador_mensajesIntroduccion/3', 'messages': '¡Hola! Soy Niza.,Un asistente virtual para atención ciudadana puedo responder dudas sobre tu agua potable,Te gustaría saber cómo utilizarme', 'default_message': 'No te entiendo', 'type_default_message': 'text', 'type_messages': 'text,text,text', 'options': 'mensajesIntroduccion_01inicial_inicial,mensajesIntroduccion_01inicial_inicial,mensajesIntroduccion_01inicial_restarVariable', 'id_robot': 340, 'id_var': 828, 'blocktype': 'case'}\n"
     ]
    },
    {
     "name": "stderr",
     "output_type": "stream",
     "text": [
      "127.0.0.1 - - [02/Oct/2020 12:32:38] \"POST /insert/bloquecase HTTP/1.1\" 200 -\n",
      "127.0.0.1 - - [02/Oct/2020 12:32:38] \"POST /insert/bloqueinternalprocess HTTP/1.1\" 200 -\n",
      "127.0.0.1 - - [02/Oct/2020 12:32:38] \"POST /insert/variables HTTP/1.1\" 200 -\n",
      "127.0.0.1 - - [02/Oct/2020 12:32:38] \"POST /insert/bloquequickreply HTTP/1.1\" 200 -\n",
      "127.0.0.1 - - [02/Oct/2020 12:32:38] \"POST /insert/variables HTTP/1.1\" 200 -\n"
     ]
    },
    {
     "name": "stdout",
     "output_type": "stream",
     "text": [
      "consulta: select * from bloquecase where default_id= 'menuIntroduccion_01inicial_inicial' and namestate= 'mensajesIntroduccion_01inicial_inicial' and method= 'GET' and typing_messages= '3' and url= 'http://127.0.0.1:1111/increase/contador_mensajesIntroduccion/3' and messages= '¡Hola! Soy Niza.,Un asistente virtual para atención ciudadana puedo responder dudas sobre tu agua potable,Te gustaría saber cómo utilizarme' and default_message= 'No te entiendo' and type_default_message= 'text' and type_messages= 'text,text,text' and options= 'mensajesIntroduccion_01inicial_inicial,mensajesIntroduccion_01inicial_inicial,mensajesIntroduccion_01inicial_restarVariable' and id_robot= '340' and id_var= '828' and blocktype= 'case' ;\n",
      "{'next_true': 'menuIntroduccion_01inicial_inicial', 'next_false': 'menuIntroduccion_01inicial_inicial', 'namestate': 'mensajesIntroduccion_01inicial_restarVariable', 'method': 'GET', 'url': 'http://127.0.0.1:1111/restar/contador_mensajesIntroduccion', 'id_robot': 340, 'blocktype': 'internalProcess'}\n",
      "consulta: select * from bloqueinternalprocess where next_true= 'menuIntroduccion_01inicial_inicial' and next_false= 'menuIntroduccion_01inicial_inicial' and namestate= 'mensajesIntroduccion_01inicial_restarVariable' and method= 'GET' and url= 'http://127.0.0.1:1111/restar/contador_mensajesIntroduccion' and id_robot= '340' and blocktype= 'internalProcess' ;\n",
      "{'name_var': 'qr_menuIntro', 'opc_type': 'Variable', 'var': 0, 'opc_data': 'Numerico', 'id_robot': 340}\n",
      "consulta: select * from variables where name_var= 'qr_menuIntro' and opc_type= 'Variable' and var= '0' and opc_data= 'Numerico' and id_robot= '340' ;\n",
      "{'contenido': 'Toca uno de los botones azules para saber tu elección', 'opciones': '¡ok veamos!,Prefiero ir al menú', 'next_id': 'mensajesIntroduccion2_01inicial_inicial,mensajePreMenu_01inicial_inicial', 'default_id': 'mensajePreMenu_01inicial_inicial', 'namestate': 'menuIntroduccion_01inicial_inicial', 'typingtime': 5, 'id_robot': 340, 'id_var': 829, 'blocktype': 'quickReply'}\n",
      "consulta: select * from bloquequickreply where contenido= 'Toca uno de los botones azules para saber tu elección' and opciones= '¡ok veamos!,Prefiero ir al menú' and next_id= 'mensajesIntroduccion2_01inicial_inicial,mensajePreMenu_01inicial_inicial' and default_id= 'mensajePreMenu_01inicial_inicial' and namestate= 'menuIntroduccion_01inicial_inicial' and typingtime= '5' and id_robot= '340' and id_var= '829' and blocktype= 'quickReply' ;\n",
      "{'name_var': 'qrd_mensaje_premenu', 'opc_type': 'Variable', 'var': 0, 'opc_data': 'Numerico', 'id_robot': 340}\n",
      "consulta: select * from variables where name_var= 'qrd_mensaje_premenu' and opc_type= 'Variable' and var= '0' and opc_data= 'Numerico' and id_robot= '340' ;\n",
      "{'default_id': 'qrPersonalidad_01inicial_inicial', 'namestate': 'mensajePreMenu_01inicial_inicial', 'method': 'GET', 'typing_messages': 3, 'url': 'http://127.0.0.1:1111/random/qrd_mensaje_premenu/3', 'messages': '¿Ahora en qué puedo ayudarte?,¿Cómo puedo ayudarte? ,¿Qué te gustaría hacer?', 'default_message': 'no te entiendo', 'type_default_message': 'text', 'type_messages': 'text,text,text', 'options': 'qrPersonalidad_01inicial_inicial,qrPersonalidad_01inicial_inicial,qrPersonalidad_01inicial_inicial', 'id_robot': 340, 'id_var': 830, 'blocktype': 'case'}\n"
     ]
    },
    {
     "name": "stderr",
     "output_type": "stream",
     "text": [
      "127.0.0.1 - - [02/Oct/2020 12:32:38] \"POST /insert/bloquecase HTTP/1.1\" 200 -\n",
      "127.0.0.1 - - [02/Oct/2020 12:32:38] \"POST /insert/variables HTTP/1.1\" 200 -\n",
      "127.0.0.1 - - [02/Oct/2020 12:32:38] \"POST /insert/bloquecase HTTP/1.1\" 200 -\n",
      "127.0.0.1 - - [02/Oct/2020 12:32:38] \"POST /insert/bloqueinternalprocess HTTP/1.1\" 200 -\n",
      "127.0.0.1 - - [02/Oct/2020 12:32:38] \"POST /insert/variables HTTP/1.1\" 200 -\n",
      "127.0.0.1 - - [02/Oct/2020 12:32:38] \"POST /insert/bloquequickreply HTTP/1.1\" 200 -\n",
      "127.0.0.1 - - [02/Oct/2020 12:32:38] \"POST /insert/bloqueinformativo HTTP/1.1\" 200 -\n"
     ]
    },
    {
     "name": "stdout",
     "output_type": "stream",
     "text": [
      "consulta: select * from bloquecase where default_id= 'qrPersonalidad_01inicial_inicial' and namestate= 'mensajePreMenu_01inicial_inicial' and method= 'GET' and typing_messages= '3' and url= 'http://127.0.0.1:1111/random/qrd_mensaje_premenu/3' and messages= '¿Ahora en qué puedo ayudarte?,¿Cómo puedo ayudarte? ,¿Qué te gustaría hacer?' and default_message= 'no te entiendo' and type_default_message= 'text' and type_messages= 'text,text,text' and options= 'qrPersonalidad_01inicial_inicial,qrPersonalidad_01inicial_inicial,qrPersonalidad_01inicial_inicial' and id_robot= '340' and id_var= '830' and blocktype= 'case' ;\n",
      "{'name_var': 'mensage_intro2', 'opc_type': 'Variable', 'var': 0, 'opc_data': 'Numerico', 'id_robot': 340}\n",
      "consulta: select * from variables where name_var= 'mensage_intro2' and opc_type= 'Variable' and var= '0' and opc_data= 'Numerico' and id_robot= '340' ;\n",
      "{'default_id': 'mensajesIntroduccion_01inicial_inicial', 'namestate': 'mensajesIntroduccion2_01inicial_inicial', 'method': 'GET', 'typing_messages': 3, 'url': 'http://127.0.0.1:1111/increase/mensage_intro2/2', 'messages': 'Soy un robot que funciona con un sistema automático llamado inteligencia artificial.,Cada vez que escribas intentare entenderte si algo se me dificulta siempre podre contactarte con un humano.', 'default_message': 'no logro comprenderte', 'type_default_message': 'text', 'type_messages': 'text,text', 'options': 'mensajesIntroduccion2_01inicial_inicial,mensajesIntroduccion2_01inicial_restarVariable', 'id_robot': 340, 'id_var': 831, 'blocktype': 'case'}\n",
      "consulta: select * from bloquecase where default_id= 'mensajesIntroduccion_01inicial_inicial' and namestate= 'mensajesIntroduccion2_01inicial_inicial' and method= 'GET' and typing_messages= '3' and url= 'http://127.0.0.1:1111/increase/mensage_intro2/2' and messages= 'Soy un robot que funciona con un sistema automático llamado inteligencia artificial.,Cada vez que escribas intentare entenderte si algo se me dificulta siempre podre contactarte con un humano.' and default_message= 'no logro comprenderte' and type_default_message= 'text' and type_messages= 'text,text' and options= 'mensajesIntroduccion2_01inicial_inicial,mensajesIntroduccion2_01inicial_restarVariable' and id_robot= '340' and id_var= '831' and blocktype= 'case' ;\n",
      "{'next_true': 'pregunta_01inicial_inicial', 'next_false': 'pregunta_01inicial_inicial', 'namestate': 'mensajesIntroduccion2_01inicial_restarVariable', 'method': 'GET', 'url': 'http://127.0.0.1:1111/restar/mensage_intro2', 'id_robot': 340, 'blocktype': 'internalProcess'}\n",
      "consulta: select * from bloqueinternalprocess where next_true= 'pregunta_01inicial_inicial' and next_false= 'pregunta_01inicial_inicial' and namestate= 'mensajesIntroduccion2_01inicial_restarVariable' and method= 'GET' and url= 'http://127.0.0.1:1111/restar/mensage_intro2' and id_robot= '340' and blocktype= 'internalProcess' ;\n",
      "{'name_var': 'qr_personalidad', 'opc_type': 'Variable', 'var': 0, 'opc_data': 'Numerico', 'id_robot': 340}\n",
      "consulta: select * from variables where name_var= 'qr_personalidad' and opc_type= 'Variable' and var= '0' and opc_data= 'Numerico' and id_robot= '340' ;\n",
      "{'contenido': 'Selecciona una opción', 'opciones': '¿Con quién estoy hablando?,¿Qué edad tienes?,¿Cuál es tu color favorito?', 'next_id': 'mensajesIntroduccion_01inicial_inicial,infoEdad_01inicial_inicial,infoColor_01inicial_inicial', 'default_id': 'NLPpersonalidad_01inicial_inicial', 'namestate': 'qrPersonalidad_01inicial_inicial', 'typingtime': 3, 'id_robot': 340, 'id_var': 832, 'blocktype': 'quickReply'}\n",
      "consulta: select * from bloquequickreply where contenido= 'Selecciona una opción' and opciones= '¿Con quién estoy hablando?,¿Qué edad tienes?,¿Cuál es tu color favorito?' and next_id= 'mensajesIntroduccion_01inicial_inicial,infoEdad_01inicial_inicial,infoColor_01inicial_inicial' and default_id= 'NLPpersonalidad_01inicial_inicial' and namestate= 'qrPersonalidad_01inicial_inicial' and typingtime= '3' and id_robot= '340' and id_var= '832' and blocktype= 'quickReply' ;\n",
      "{'next_id': 'mensajePreMenu_01inicial_inicial', 'namestate': 'infoEdad_01inicial_inicial', 'contenido': 'Mmmm yo tengo 21 años con 6 meses', 'contenttype': 'text', 'typingtime': 3, 'id_robot': 340, 'blocktype': 'informativo'}\n",
      "consulta: select * from bloqueinformativo where next_id= 'mensajePreMenu_01inicial_inicial' and namestate= 'infoEdad_01inicial_inicial' and contenido= 'Mmmm yo tengo 21 años con 6 meses' and contenttype= 'text' and typingtime= '3' and id_robot= '340' and blocktype= 'informativo' ;\n",
      "{'next_id': 'mensajePreMenu_01inicial_inicial', 'namestate': 'infoColor_01inicial_inicial', 'contenido': 'Mi color favorito es el azul porque me recuerda el cielo y el mar.', 'contenttype': 'text', 'typingtime': 3, 'id_robot': 340, 'blocktype': 'informativo'}\n",
      "consulta: select * from bloqueinformativo where next_id= 'mensajePreMenu_01inicial_inicial' and namestate= 'infoColor_01inicial_inicial' and contenido= 'Mi color favorito es el azul porque me recuerda el cielo y el mar.' and contenttype= 'text' and typingtime= '3' and id_robot= '340' and blocktype= 'informativo' ;\n"
     ]
    },
    {
     "name": "stderr",
     "output_type": "stream",
     "text": [
      "127.0.0.1 - - [02/Oct/2020 12:32:38] \"POST /insert/bloqueinformativo HTTP/1.1\" 200 -\n",
      "127.0.0.1 - - [02/Oct/2020 12:32:38] \"POST /insert/variables HTTP/1.1\" 200 -\n",
      "127.0.0.1 - - [02/Oct/2020 12:32:38] \"POST /insert/bloqueinput HTTP/1.1\" 200 -\n",
      "127.0.0.1 - - [02/Oct/2020 12:32:38] \"POST /insert/bloquenlp HTTP/1.1\" 200 -\n"
     ]
    },
    {
     "name": "stdout",
     "output_type": "stream",
     "text": [
      "{'name_var': 'var_pregunta', 'opc_type': 'Variable', 'var': 0, 'opc_data': 'String', 'id_robot': 340}\n",
      "consulta: select * from variables where name_var= 'var_pregunta' and opc_type= 'Variable' and var= '0' and opc_data= 'String' and id_robot= '340' ;\n",
      "{'next_id': 'NLPpersonalidad_01inicial_inicial', 'default_id': 'NLPpersonalidad_01inicial_inicial', 'namestate': 'pregunta_01inicial_inicial', 'contenido': '¿Qué deseas hacer?', 'contenttype': 'text', 'typingtime': 1, 'validacion': '.*', 'id_robot': 340, 'id_var': 833, 'blocktype': 'input'}\n",
      "consulta: select * from bloqueinput where next_id= 'NLPpersonalidad_01inicial_inicial' and default_id= 'NLPpersonalidad_01inicial_inicial' and namestate= 'pregunta_01inicial_inicial' and contenido= '¿Qué deseas hacer?' and contenttype= 'text' and typingtime= '1' and validacion= '.*' and id_robot= '340' and id_var= '833' and blocktype= 'input' ;\n",
      "{'default_id': 'mensajesIntroduccion_01inicial_inicial', 'namestate': 'NLPpersonalidad_01inicial_inicial', 'default_message': 'Lo siento pero no logro comprender lo que me pides', 'json_nlp': '{\"intentions\": [], \"entities\": [], \"conditionals\": [{\"condition\": \"#identidad\", \"next\": \"mensajesIntroduccion_01inicial_inicial\"}, {\"condition\": \"#edad\", \"next\": \"infoEdad_01inicial_inicial\"}, {\"condition\": \"#color\", \"next\": \"infoColor_01inicial_inicial\"}]}', 'id_robot': 340, 'blocktype': 'nlp'}\n",
      "consulta: select * from bloquenlp where default_id= 'mensajesIntroduccion_01inicial_inicial' and namestate= 'NLPpersonalidad_01inicial_inicial' and default_message= 'Lo siento pero no logro comprender lo que me pides' and json_nlp= '{\"intentions\": [], \"entities\": [], \"conditionals\": [{\"condition\": \"#identidad\", \"next\": \"mensajesIntroduccion_01inicial_inicial\"}, {\"condition\": \"#edad\", \"next\": \"infoEdad_01inicial_inicial\"}, {\"condition\": \"#color\", \"next\": \"infoColor_01inicial_inicial\"}]}' and id_robot= '340' and blocktype= 'nlp' ;\n"
     ]
    }
   ],
   "source": [
    "if __name__ == \"__main__\":    \n",
    "    app.run(host='localhost',port='8181')"
   ]
  },
  {
   "cell_type": "code",
   "execution_count": null,
   "metadata": {},
   "outputs": [],
   "source": []
  },
  {
   "cell_type": "code",
   "execution_count": null,
   "metadata": {},
   "outputs": [],
   "source": []
  }
 ],
 "metadata": {
  "kernelspec": {
   "display_name": "Python 3",
   "language": "python",
   "name": "python3"
  },
  "language_info": {
   "codemirror_mode": {
    "name": "ipython",
    "version": 3
   },
   "file_extension": ".py",
   "mimetype": "text/x-python",
   "name": "python",
   "nbconvert_exporter": "python",
   "pygments_lexer": "ipython3",
   "version": "3.7.4"
  }
 },
 "nbformat": 4,
 "nbformat_minor": 2
}
